{
  "nbformat": 4,
  "nbformat_minor": 0,
  "metadata": {
    "colab": {
      "name": "Lecture2.ipynb",
      "version": "0.3.2",
      "provenance": [],
      "include_colab_link": true
    },
    "kernelspec": {
      "name": "python3",
      "display_name": "Python 3"
    }
  },
  "cells": [
    {
      "cell_type": "markdown",
      "metadata": {
        "id": "view-in-github",
        "colab_type": "text"
      },
      "source": [
        "<a href=\"https://colab.research.google.com/github/chdeng113/hello-world/blob/master/Lecture2.ipynb\" target=\"_parent\"><img src=\"https://colab.research.google.com/assets/colab-badge.svg\" alt=\"Open In Colab\"/></a>"
      ]
    },
    {
      "cell_type": "code",
      "metadata": {
        "id": "LTcqKGU7pCp6",
        "colab_type": "code",
        "colab": {
          "base_uri": "https://localhost:8080/",
          "height": 69
        },
        "outputId": "cf809ff1-9d87-401c-c044-b0719e496d5d"
      },
      "source": [
        "# List in Python\n",
        "# List need not to be homogeneous;\n",
        "# List can contain integer and string at the same time, as well as objects;\n",
        "# List alsways uses brackets;\n",
        "# List can be modified by pointing out the index;\n",
        "# The index in List starts from 0.\n",
        "\n",
        "list1=[1,2,3,\"Three\"]  # List can contain integer and string\n",
        "\n",
        "print(list1)\n",
        "\n",
        "list1[3] = 'four'\n",
        "\n",
        "print(list1)\n",
        "\n",
        "list1[3] = 4\n",
        "\n",
        "print(list1)"
      ],
      "execution_count": 18,
      "outputs": [
        {
          "output_type": "stream",
          "text": [
            "[1, 2, 3, 'Three']\n",
            "[1, 2, 3, 'four']\n",
            "[1, 2, 3, 4]\n"
          ],
          "name": "stdout"
        }
      ]
    },
    {
      "cell_type": "code",
      "metadata": {
        "id": "L0yyBAnVp2I2",
        "colab_type": "code",
        "colab": {
          "base_uri": "https://localhost:8080/",
          "height": 35
        },
        "outputId": "3dbbabec-6d87-4710-a827-eece41547995"
      },
      "source": [
        "# Create an empty list\n",
        "list2 = []\n",
        "\n",
        "# Add elements 1,2,4 to the list\n",
        "list2.append(1)\n",
        "list2.append(2)\n",
        "list2.append(4)\n",
        "\n",
        "# Verify if the elements are sorted\n",
        "list2.sort()\n",
        "\n",
        "# Add elements \"hello\",\"world\" to the list\n",
        "list2.append('hello')\n",
        "list2.append('world')\n",
        "\n",
        "print(list2)"
      ],
      "execution_count": 10,
      "outputs": [
        {
          "output_type": "stream",
          "text": [
            "[1, 2, 4, 'hello', 'world']\n"
          ],
          "name": "stdout"
        }
      ]
    },
    {
      "cell_type": "code",
      "metadata": {
        "id": "SyspOBqwrbbX",
        "colab_type": "code",
        "colab": {
          "base_uri": "https://localhost:8080/",
          "height": 69
        },
        "outputId": "9e4c3094-e287-46c5-a5e8-b42f8d822f28"
      },
      "source": [
        "# Dictionary in Python\n",
        "# Dictionary can store unordered collection of data values like a map;\n",
        "# Dictionary normally have a set of keys, and a set of values which are\n",
        "# corresponding to the keys;\n",
        "# However, the key need not to be homogeneous;\n",
        "# Dictionary always uses braces;\n",
        "# Use colon after key, and use comma after each value;\n",
        "# The index of dictionary is the key,\n",
        "# and the corresponding values can be changed.\n",
        "\n",
        "dictionary1 = {}\n",
        "dictionary1 = {1:'apples',2:'oranges'}\n",
        "\n",
        "print(dictionary1)\n",
        "\n",
        "dictionary1[2] = 4\n",
        "\n",
        "print(dictionary1)\n",
        "\n",
        "dictionary2 = {1:'apples','list1':[1,2,3,4]}\n",
        "\n",
        "print(dictionary2)"
      ],
      "execution_count": 19,
      "outputs": [
        {
          "output_type": "stream",
          "text": [
            "{1: 'apples', 2: 'oranges'}\n",
            "{1: 'apples', 2: 4}\n",
            "{1: 'apples', 'list1': [1, 2, 3, 4]}\n"
          ],
          "name": "stdout"
        }
      ]
    },
    {
      "cell_type": "code",
      "metadata": {
        "id": "g9wFINiIt9i3",
        "colab_type": "code",
        "colab": {
          "base_uri": "https://localhost:8080/",
          "height": 52
        },
        "outputId": "9135a652-0cc2-43a9-fbe1-b5d6046f2974"
      },
      "source": [
        "# Create a dictionary of size 5 where the keys are 1,2,3,4,5 and their values\n",
        "# are twice the key value.\n",
        "dictionary3 = {1:2,2:4,3:6,4:8,5:10}\n",
        "\n",
        "print(dictionary3)\n",
        "\n",
        "dictionary4 = {}\n",
        "dictionary4[1] = 2\n",
        "dictionary4[2] = 4\n",
        "dictionary4[3] = 6\n",
        "dictionary4[4] = 8\n",
        "dictionary4[5] = 10\n",
        "\n",
        "print(dictionary4)"
      ],
      "execution_count": 12,
      "outputs": [
        {
          "output_type": "stream",
          "text": [
            "{1: 2, 2: 4, 3: 6, 4: 8, 5: 10}\n",
            "{1: 2, 2: 4, 3: 6, 4: 8, 5: 10}\n"
          ],
          "name": "stdout"
        }
      ]
    },
    {
      "cell_type": "code",
      "metadata": {
        "id": "qzThO5u2u6tv",
        "colab_type": "code",
        "colab": {
          "base_uri": "https://localhost:8080/",
          "height": 35
        },
        "outputId": "439211a2-e461-4a83-f77f-cd6271a63d3d"
      },
      "source": [
        "# Tuple in Python\n",
        "# Tuple is like a list;\n",
        "# However, a tuple is immutable;\n",
        "# Tuple always uses parentheses;\n",
        "# Tuple doesn't have index.\n",
        "\n",
        "# List in Python is mutable by changing the value\n",
        "List1 = ['a','b','c']\n",
        "List1[0] = 'd'   # Point out the index, and then change the corresponding value\n",
        "                 # Index in Python starts from 0\n",
        "print(List1)"
      ],
      "execution_count": 13,
      "outputs": [
        {
          "output_type": "stream",
          "text": [
            "['d', 'b', 'c']\n"
          ],
          "name": "stdout"
        }
      ]
    },
    {
      "cell_type": "code",
      "metadata": {
        "id": "r5XrGhrBwWAY",
        "colab_type": "code",
        "colab": {
          "base_uri": "https://localhost:8080/",
          "height": 69
        },
        "outputId": "53f985d9-c91f-4666-a878-469102b7985d"
      },
      "source": [
        "# Create an empty tuple\n",
        "tuple1 = ()\n",
        "\n",
        "# Store data in that tuple\n",
        "tuple1 = (1,'apples',2,'oranges')\n",
        "\n",
        "# Create a tuple of size 4 with repetition 'apples'\n",
        "tuple2= ('apples','apples','apples','apples')\n",
        "\n",
        "print(tuple1)\n",
        "print(tuple2)\n",
        "\n",
        "# Create a single tuple from two tuples (1,2,3) and (4,5)\n",
        "tuple3 = ((1,2,3),(4,5))   # Tuple can store tuples inside.\n",
        "print(tuple3)"
      ],
      "execution_count": 16,
      "outputs": [
        {
          "output_type": "stream",
          "text": [
            "(1, 'apples', 2, 'oranges')\n",
            "('apples', 'apples', 'apples', 'apples')\n",
            "((1, 2, 3), (4, 5))\n"
          ],
          "name": "stdout"
        }
      ]
    },
    {
      "cell_type": "code",
      "metadata": {
        "id": "rAtSvV0myMsA",
        "colab_type": "code",
        "colab": {}
      },
      "source": [
        "# Set in Python\n",
        "# The data in Set is iterable, mutable and doesn't have duplication;\n",
        "# It uses set plus parentheses;\n",
        "# You can check the existence of an element in a set;\n",
        "# Set doesn't have index either."
      ],
      "execution_count": 0,
      "outputs": []
    },
    {
      "cell_type": "code",
      "metadata": {
        "id": "v9L6PIp800Qq",
        "colab_type": "code",
        "colab": {
          "base_uri": "https://localhost:8080/",
          "height": 52
        },
        "outputId": "f4ddf722-f360-4aa1-8fa2-ab4fddd7dbde"
      },
      "source": [
        "Set1 = set()\n",
        "Set1 = set('helloworld')\n",
        "\n",
        "print(Set1)\n",
        "\n",
        "Set2 = set([1,2,3,2,3,4,5])   # Set can't have duplicable elements\n",
        "\n",
        "print(Set2)"
      ],
      "execution_count": 33,
      "outputs": [
        {
          "output_type": "stream",
          "text": [
            "{'r', 'd', 'h', 'l', 'w', 'o', 'e'}\n",
            "{1, 2, 3, 4, 5}\n"
          ],
          "name": "stdout"
        }
      ]
    }
  ]
}